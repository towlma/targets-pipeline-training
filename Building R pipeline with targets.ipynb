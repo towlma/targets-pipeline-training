{
  "cells": [
    {
      "cell_type": "raw",
      "metadata": {},
      "source": [
        "---\n",
        "title: \"Building R pipeline with targets\"\n",
        "author: \"Tristan Hay\"\n",
        "date: \"08-09-2023\"\n",
        "format: revealjs\n",
        "editor: visual\n",
        "---"
      ],
      "id": "579a3cdc"
    },
    {
      "cell_type": "markdown",
      "metadata": {},
      "source": [
        "## Objective of the training\n",
        "\n",
        "During this training, you will learn :\n",
        "\n",
        "-   to build robust R pipeline using [target](https://books.ropensci.org/targets/).\n",
        "\n",
        "-   to perform data quality checks with [assertr](https://github.com/ropensci/assertr)\n",
        "\n",
        "-   to create log files with [log4r](https://cran.r-project.org/web/packages/log4r/readme/README.html)\n",
        "\n",
        "-   to run this target at\n",
        "\n",
        "## What is target ?\n",
        "\n",
        "## Advantages of using target\n",
        "\n",
        "## Example\n",
        "\n",
        "\n",
        "```{targets}\n",
        "targets::tar_mermaid()\n",
        "```\n",
        "\n",
        "\n",
        "\n",
        "## To go further\n",
        "\n",
        "https://docs.ropensci.org/gittargets/"
      ],
      "id": "8b67d892"
    }
  ],
  "metadata": {
    "kernelspec": {
      "display_name": "Python 3",
      "language": "python",
      "name": "python3"
    }
  },
  "nbformat": 4,
  "nbformat_minor": 5
}